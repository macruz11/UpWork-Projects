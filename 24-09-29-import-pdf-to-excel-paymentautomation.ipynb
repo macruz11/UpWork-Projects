{
 "cells": [
  {
   "cell_type": "code",
   "execution_count": 1,
   "id": "995c2e3d",
   "metadata": {
    "_cell_guid": "b1076dfc-b9ad-4769-8c92-a6c4dae69d19",
    "_uuid": "8f2839f25d086af736a60e9eeb907d3b93b6e0e5",
    "execution": {
     "iopub.execute_input": "2024-09-30T18:00:29.199032Z",
     "iopub.status.busy": "2024-09-30T18:00:29.198607Z",
     "iopub.status.idle": "2024-09-30T18:00:30.133658Z",
     "shell.execute_reply": "2024-09-30T18:00:30.132220Z"
    },
    "papermill": {
     "duration": 0.941802,
     "end_time": "2024-09-30T18:00:30.136165",
     "exception": false,
     "start_time": "2024-09-30T18:00:29.194363",
     "status": "completed"
    },
    "tags": []
   },
   "outputs": [
    {
     "name": "stdout",
     "output_type": "stream",
     "text": [
      "/kaggle/input/pdfsss/pdf2.pdf\n",
      "/kaggle/input/pdfsss/pdf1.pdf\n",
      "/kaggle/input/pdfsss/pdf3.pdf\n"
     ]
    }
   ],
   "source": [
    "# This Python 3 environment comes with many helpful analytics libraries installed\n",
    "# It is defined by the kaggle/python Docker image: https://github.com/kaggle/docker-python\n",
    "# For example, here's several helpful packages to load\n",
    "\n",
    "import numpy as np # linear algebra\n",
    "import pandas as pd # data processing, CSV file I/O (e.g. pd.read_csv)\n",
    "\n",
    "# Input data files are available in the read-only \"../input/\" directory\n",
    "# For example, running this (by clicking run or pressing Shift+Enter) will list all files under the input directory\n",
    "\n",
    "import os\n",
    "for dirname, _, filenames in os.walk('/kaggle/input'):\n",
    "    for filename in filenames:\n",
    "        print(os.path.join(dirname, filename))\n",
    "\n",
    "# You can write up to 20GB to the current directory (/kaggle/working/) that gets preserved as output when you create a version using \"Save & Run All\" \n",
    "# You can also write temporary files to /kaggle/temp/, but they won't be saved outside of the current session"
   ]
  },
  {
   "cell_type": "code",
   "execution_count": 2,
   "id": "562b3736",
   "metadata": {
    "execution": {
     "iopub.execute_input": "2024-09-30T18:00:30.142573Z",
     "iopub.status.busy": "2024-09-30T18:00:30.142017Z",
     "iopub.status.idle": "2024-09-30T18:00:44.134596Z",
     "shell.execute_reply": "2024-09-30T18:00:44.132864Z"
    },
    "papermill": {
     "duration": 13.998913,
     "end_time": "2024-09-30T18:00:44.137522",
     "exception": false,
     "start_time": "2024-09-30T18:00:30.138609",
     "status": "completed"
    },
    "tags": []
   },
   "outputs": [
    {
     "name": "stdout",
     "output_type": "stream",
     "text": [
      "Collecting tabula-py\r\n",
      "  Downloading tabula_py-2.9.3-py3-none-any.whl.metadata (7.6 kB)\r\n",
      "Requirement already satisfied: pandas in /opt/conda/lib/python3.10/site-packages (2.2.2)\r\n",
      "Requirement already satisfied: openpyxl in /opt/conda/lib/python3.10/site-packages (3.1.5)\r\n",
      "Requirement already satisfied: numpy in /opt/conda/lib/python3.10/site-packages (from tabula-py) (1.26.4)\r\n",
      "Requirement already satisfied: distro in /opt/conda/lib/python3.10/site-packages (from tabula-py) (1.9.0)\r\n",
      "Requirement already satisfied: python-dateutil>=2.8.2 in /opt/conda/lib/python3.10/site-packages (from pandas) (2.9.0.post0)\r\n",
      "Requirement already satisfied: pytz>=2020.1 in /opt/conda/lib/python3.10/site-packages (from pandas) (2024.1)\r\n",
      "Requirement already satisfied: tzdata>=2022.7 in /opt/conda/lib/python3.10/site-packages (from pandas) (2024.1)\r\n",
      "Requirement already satisfied: et-xmlfile in /opt/conda/lib/python3.10/site-packages (from openpyxl) (1.1.0)\r\n",
      "Requirement already satisfied: six>=1.5 in /opt/conda/lib/python3.10/site-packages (from python-dateutil>=2.8.2->pandas) (1.16.0)\r\n",
      "Downloading tabula_py-2.9.3-py3-none-any.whl (12.0 MB)\r\n",
      "\u001b[2K   \u001b[90m━━━━━━━━━━━━━━━━━━━━━━━━━━━━━━━━━━━━━━━━\u001b[0m \u001b[32m12.0/12.0 MB\u001b[0m \u001b[31m59.9 MB/s\u001b[0m eta \u001b[36m0:00:00\u001b[0m\r\n",
      "\u001b[?25hInstalling collected packages: tabula-py\r\n",
      "Successfully installed tabula-py-2.9.3\r\n"
     ]
    }
   ],
   "source": [
    "!pip install tabula-py pandas openpyxl\n"
   ]
  },
  {
   "cell_type": "code",
   "execution_count": 3,
   "id": "dc41211a",
   "metadata": {
    "execution": {
     "iopub.execute_input": "2024-09-30T18:00:44.146567Z",
     "iopub.status.busy": "2024-09-30T18:00:44.146093Z",
     "iopub.status.idle": "2024-09-30T18:00:51.905667Z",
     "shell.execute_reply": "2024-09-30T18:00:51.904178Z"
    },
    "papermill": {
     "duration": 7.767541,
     "end_time": "2024-09-30T18:00:51.908253",
     "exception": false,
     "start_time": "2024-09-30T18:00:44.140712",
     "status": "completed"
    },
    "tags": []
   },
   "outputs": [
    {
     "name": "stdout",
     "output_type": "stream",
     "text": [
      "Converting PDF: /kaggle/input/pdfsss/pdf1.pdf -> /kaggle/working/pdf1.csv\n",
      "CSV /kaggle/working/pdf1.csv created successfully.\n",
      "Converting PDF: /kaggle/input/pdfsss/pdf2.pdf -> /kaggle/working/pdf2.csv\n",
      "CSV /kaggle/working/pdf2.csv created successfully.\n",
      "Converting PDF: /kaggle/input/pdfsss/pdf3.pdf -> /kaggle/working/pdf3.csv\n",
      "Warning: CSV /kaggle/working/pdf3.csv is empty.\n",
      "Data from /kaggle/working/pdf1.csv has been imported into Excel sheet 'pdf1'.\n",
      "Data from /kaggle/working/pdf2.csv has been imported into Excel sheet 'pdf2'.\n",
      "Error: /kaggle/working/pdf3.csv is empty or has no data to parse.\n",
      "All CSV files have been imported into /kaggle/working/imported_data.xlsx\n"
     ]
    }
   ],
   "source": [
    "import tabula\n",
    "import pandas as pd\n",
    "import os\n",
    "\n",
    "# Function to convert PDF to CSV\n",
    "def convert_pdf_to_csv(pdf_path, output_dir, use_lattice=False, use_stream=False):\n",
    "    \"\"\"\n",
    "    Converts a PDF file to CSV using Tabula.\n",
    "    \n",
    "    Parameters:\n",
    "    - pdf_path: Path to the PDF file\n",
    "    - output_dir: Directory to save the output CSV file\n",
    "    - use_lattice: Boolean to specify if lattice mode should be used\n",
    "    - use_stream: Boolean to specify if stream mode should be used\n",
    "    \n",
    "    Returns:\n",
    "    - output_csv: Path to the generated CSV file\n",
    "    \"\"\"\n",
    "    # Define output CSV path\n",
    "    output_csv = os.path.join(output_dir, os.path.basename(pdf_path).replace(\".pdf\", \".csv\"))\n",
    "\n",
    "    # Debug: Print which PDF is being converted\n",
    "    print(f\"Converting PDF: {pdf_path} -> {output_csv}\")\n",
    "\n",
    "    try:\n",
    "        # Use Lattice or Stream mode if specified\n",
    "        if use_lattice:\n",
    "            tabula.convert_into(pdf_path, output_csv, output_format=\"csv\", pages=\"all\", lattice=True)\n",
    "        elif use_stream:\n",
    "            tabula.convert_into(pdf_path, output_csv, output_format=\"csv\", pages=\"all\", stream=True)\n",
    "        else:\n",
    "            tabula.convert_into(pdf_path, output_csv, output_format=\"csv\", pages=\"all\")\n",
    "        \n",
    "        # Check if the CSV file was created and is not empty\n",
    "        if os.path.getsize(output_csv) > 0:\n",
    "            print(f\"CSV {output_csv} created successfully.\")\n",
    "        else:\n",
    "            print(f\"Warning: CSV {output_csv} is empty.\")\n",
    "\n",
    "    except Exception as e:\n",
    "        print(f\"Error while converting {pdf_path}: {e}\")\n",
    "\n",
    "    return output_csv\n",
    "\n",
    "# Function to import CSV files into Excel\n",
    "def import_csvs_to_excel(csv_files, excel_path):\n",
    "    \"\"\"\n",
    "    Imports CSV files into an Excel workbook, each CSV in a separate sheet.\n",
    "    \n",
    "    Parameters:\n",
    "    - csv_files: List of paths to the CSV files\n",
    "    - excel_path: Path to the Excel file\n",
    "    \"\"\"\n",
    "    # Create an Excel writer object\n",
    "    with pd.ExcelWriter(excel_path, engine='openpyxl') as writer:\n",
    "        # Loop through each CSV file\n",
    "        for csv_file in csv_files:\n",
    "            try:\n",
    "                # Read CSV into a pandas DataFrame\n",
    "                df = pd.read_csv(csv_file)\n",
    "                \n",
    "                # Check if the DataFrame is empty\n",
    "                if df.empty:\n",
    "                    print(f\"Warning: {csv_file} is empty or cannot be parsed.\")\n",
    "                else:\n",
    "                    # Generate a sheet name based on the file name (without extension)\n",
    "                    sheet_name = os.path.basename(csv_file).replace('.csv', '')\n",
    "                    \n",
    "                    # Write the DataFrame to a new sheet in the Excel workbook\n",
    "                    df.to_excel(writer, sheet_name=sheet_name, index=False)\n",
    "                    print(f\"Data from {csv_file} has been imported into Excel sheet '{sheet_name}'.\")\n",
    "\n",
    "            except pd.errors.EmptyDataError:\n",
    "                print(f\"Error: {csv_file} is empty or has no data to parse.\")\n",
    "            except Exception as e:\n",
    "                print(f\"Error while importing {csv_file} to Excel: {e}\")\n",
    "\n",
    "    print(f\"All CSV files have been imported into {excel_path}\")\n",
    "\n",
    "# Main function to automate PDF to Excel conversion\n",
    "def automate_pdf_to_excel(pdf_files, output_directory, excel_file, use_lattice=False, use_stream=False):\n",
    "    \"\"\"\n",
    "    Automates the process of converting PDFs to CSV and importing them into Excel.\n",
    "    \n",
    "    Parameters:\n",
    "    - pdf_files: List of paths to the PDF files\n",
    "    - output_directory: Directory to save the converted CSVs\n",
    "    - excel_file: Path to the final Excel file\n",
    "    - use_lattice: Boolean to specify if lattice mode should be used in Tabula\n",
    "    - use_stream: Boolean to specify if stream mode should be used in Tabula\n",
    "    \"\"\"\n",
    "    # List to store paths of converted CSV files\n",
    "    csv_files = []\n",
    "    \n",
    "    # Convert each PDF to CSV and store the CSV paths\n",
    "    for pdf_file in pdf_files:\n",
    "        csv_file = convert_pdf_to_csv(pdf_file, output_directory, use_lattice, use_stream)\n",
    "        csv_files.append(csv_file)\n",
    "    \n",
    "    # Import all CSV files into the Excel file\n",
    "    import_csvs_to_excel(csv_files, excel_file)\n",
    "\n",
    "# Paths to the PDF files (replace with your actual file paths)\n",
    "pdf_files = [\n",
    "    \"/kaggle/input/pdfsss/pdf1.pdf\",\n",
    "    \"/kaggle/input/pdfsss/pdf2.pdf\",\n",
    "    \"/kaggle/input/pdfsss/pdf3.pdf\"\n",
    "]\n",
    "\n",
    "# Directory where the converted CSVs will be saved\n",
    "output_directory = \"/kaggle/working/\"\n",
    "\n",
    "# Path to the final Excel file where the data will be stored\n",
    "excel_file = \"/kaggle/working/imported_data.xlsx\"\n",
    "\n",
    "# Run the automation process (choose lattice or stream mode depending on your PDFs)\n",
    "automate_pdf_to_excel(pdf_files, output_directory, excel_file, use_lattice=False, use_stream=True)\n"
   ]
  }
 ],
 "metadata": {
  "kaggle": {
   "accelerator": "none",
   "dataSources": [
    {
     "datasetId": 5790577,
     "sourceId": 9512642,
     "sourceType": "datasetVersion"
    }
   ],
   "dockerImageVersionId": 30775,
   "isGpuEnabled": false,
   "isInternetEnabled": true,
   "language": "python",
   "sourceType": "notebook"
  },
  "kernelspec": {
   "display_name": "Python 3",
   "language": "python",
   "name": "python3"
  },
  "language_info": {
   "codemirror_mode": {
    "name": "ipython",
    "version": 3
   },
   "file_extension": ".py",
   "mimetype": "text/x-python",
   "name": "python",
   "nbconvert_exporter": "python",
   "pygments_lexer": "ipython3",
   "version": "3.10.14"
  },
  "papermill": {
   "default_parameters": {},
   "duration": 26.227538,
   "end_time": "2024-09-30T18:00:52.533919",
   "environment_variables": {},
   "exception": null,
   "input_path": "__notebook__.ipynb",
   "output_path": "__notebook__.ipynb",
   "parameters": {},
   "start_time": "2024-09-30T18:00:26.306381",
   "version": "2.6.0"
  }
 },
 "nbformat": 4,
 "nbformat_minor": 5
}
